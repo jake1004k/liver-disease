{
 "cells": [
  {
   "cell_type": "code",
   "execution_count": 1,
   "id": "f128d15e-1512-4f63-a4a2-c716f64cd30a",
   "metadata": {},
   "outputs": [],
   "source": [
    "import numpy as np\n",
    "\n",
    "import pandas as pd\n",
    "\n",
    "import pickle"
   ]
  },
  {
   "cell_type": "code",
   "execution_count": 2,
   "id": "621a69a3-33f7-4ba5-b892-99e28d138780",
   "metadata": {},
   "outputs": [],
   "source": [
    "raw_liver=pd.read_csv(\"Indian Liver Patient Dataset (ILPD).csv\")\n",
    "raw_liver.columns=['Age','Gender','Total_Bilirubin','Direct_Bilirubin','Alkaline_Phosphotase','Alamine_Aminotransferase','Aspartate_Aminotransferase','Total_Protiens','Albumin','Albumin_and_Globulin_Ratio','Target']\n",
    "col=['Age', 'Total_Bilirubin', 'Direct_Bilirubin', 'Alkaline_Phosphotase',\n",
    "       'Alamine_Aminotransferase', 'Aspartate_Aminotransferase',\n",
    "       'Total_Protiens', 'Albumin',\n",
    "       'Albumin_and_Globulin_Ratio', 'Gender','Target']\n",
    "data=pd.DataFrame()\n",
    "for x in col:\n",
    "    data[x]=raw_liver[x]"
   ]
  },
  {
   "cell_type": "code",
   "execution_count": 3,
   "id": "8838316f-64b7-4bc2-9d9c-09cc254d4fb8",
   "metadata": {},
   "outputs": [],
   "source": [
    "col=['Age', 'Total_Bilirubin', 'Direct_Bilirubin', 'Alkaline_Phosphotase',\n",
    "       'Alamine_Aminotransferase', 'Aspartate_Aminotransferase',\n",
    "       'Total_Protiens', 'Albumin',\n",
    "       'Albumin_and_Globulin_Ratio', 'Gender']\n",
    "data=pd.DataFrame()\n",
    "for x in col:\n",
    "    data[x]=raw_liver[x]"
   ]
  },
  {
   "cell_type": "code",
   "execution_count": 4,
   "id": "6b3483bc-e276-4a93-be12-1f14fdaaad24",
   "metadata": {},
   "outputs": [],
   "source": [
    "def NAN_replace(df,column_name,x):\n",
    "    #x=mean,median,mode,random,nan_binary,end_distribution\n",
    "    if x=='mean':\n",
    "        df[column_name+'_'+x+'_replaced']=df[column_name]\n",
    "        df[column_name+'_'+x+'_replaced']=df[column_name+'_'+x+'_replaced'].replace(to_replace=np.nan,value=df[column_name].mean(),inplace=False)\n",
    "    if x=='median':\n",
    "        df[column_name+'_'+x+'_replaced']=df[column_name]\n",
    "        df[column_name+'_'+x+'_replaced']=df[column_name+'_'+x+'_replaced'].replace(to_replace=np.nan,value=df[column_name].median(),inplace=False)\n",
    "    if x=='mode':\n",
    "        df[column_name+'_'+x+'_replaced']=df[column_name]\n",
    "        df[column_name+'_'+x+'_replaced']=df[column_name+'_'+x+'_replaced'].replace(to_replace=np.nan,value=df[column_name].mode(),inplace=False)\n",
    "    if x=='random':\n",
    "        df[column_name+'_random'] = df[column_name]  \n",
    "        random_sample = df[column_name].dropna().sample(df[column_name].isnull().sum(), random_state=0)  \n",
    "        random_sample.index = df[df['Age'].isnull()].index  \n",
    "        df.loc[df2[column_name].isnull(), column_name+'_random'] = random_sample \n",
    "    if x=='nan_binary':\n",
    "        df[column_name+'_nan_binary']=np.where(d[column_name].isnull(),1,0)\n",
    "    if x=='end_distribution':\n",
    "        df[column_name+'_end _distribution']=df[column_name].fillna(df[column_name].mean()+3*df3[column_name].std())\n",
    "    "
   ]
  },
  {
   "cell_type": "code",
   "execution_count": 5,
   "id": "0a27c224-5e09-4c77-aa64-d30003f6496c",
   "metadata": {},
   "outputs": [],
   "source": [
    "NAN_replace(data,'Albumin_and_Globulin_Ratio','median')"
   ]
  },
  {
   "cell_type": "code",
   "execution_count": 6,
   "id": "eb86bd51-f7ee-4a7d-ab87-cf49f5667376",
   "metadata": {},
   "outputs": [
    {
     "name": "stderr",
     "output_type": "stream",
     "text": [
      "C:\\Users\\FCI\\AppData\\Local\\Temp\\ipykernel_19256\\2187504411.py:1: FutureWarning: Downcasting behavior in `replace` is deprecated and will be removed in a future version. To retain the old behavior, explicitly call `result.infer_objects(copy=False)`. To opt-in to the future behavior, set `pd.set_option('future.no_silent_downcasting', True)`\n",
      "  data['Gender']=data['Gender'].replace({'Male':1,'Female':0})\n"
     ]
    }
   ],
   "source": [
    "data['Gender']=data['Gender'].replace({'Male':1,'Female':0})"
   ]
  },
  {
   "cell_type": "code",
   "execution_count": 7,
   "id": "956208da-e357-43b6-a1bb-f658dd261a88",
   "metadata": {},
   "outputs": [],
   "source": [
    "data.drop(columns='Albumin_and_Globulin_Ratio',inplace=True)"
   ]
  },
  {
   "cell_type": "code",
   "execution_count": 8,
   "id": "a7bff868-8ab9-4208-8b42-627c1284f922",
   "metadata": {},
   "outputs": [
    {
     "name": "stdout",
     "output_type": "stream",
     "text": [
      "(436, 10) (436,)\n",
      "(146, 10) (146,)\n"
     ]
    }
   ],
   "source": [
    "x=data\n",
    "y=raw_liver['Target']\n",
    "from sklearn.model_selection import train_test_split\n",
    "trainx,testx,trainy,testy=train_test_split(x,y,test_size=0.25,random_state=47)\n",
    "print(trainx.shape  ,  trainy.shape)\n",
    "print(testx.shape  ,   testy.shape)"
   ]
  },
  {
   "cell_type": "code",
   "execution_count": 9,
   "id": "7314fb43-66b5-4902-b6e6-88a8ee9adf47",
   "metadata": {},
   "outputs": [
    {
     "name": "stdout",
     "output_type": "stream",
     "text": [
      "Target\n",
      "1    312\n",
      "2    124\n",
      "Name: count, dtype: int64\n",
      "Target\n",
      "2    289\n",
      "1    289\n",
      "Name: count, dtype: int64\n"
     ]
    }
   ],
   "source": [
    "from imblearn.combine import SMOTETomek\n",
    "sm=SMOTETomek()\n",
    "smot_trainx,smot_trainy=sm.fit_resample(trainx,trainy)\n",
    "print(trainy.value_counts())\n",
    "print(smot_trainy.value_counts())"
   ]
  },
  {
   "cell_type": "code",
   "execution_count": 10,
   "id": "e73e71da-367f-4d8f-bf39-b6fdf089e6f2",
   "metadata": {},
   "outputs": [],
   "source": [
    "from sklearn.preprocessing import StandardScaler\n",
    "ss=StandardScaler()\n",
    "smot_scl_trainx=ss.fit_transform(smot_trainx)\n",
    "scl_testx=ss.transform(testx)"
   ]
  },
  {
   "cell_type": "code",
   "execution_count": 12,
   "id": "bc7cda34-235d-4aab-8f3a-eaf7ef71eab5",
   "metadata": {},
   "outputs": [
    {
     "name": "stdout",
     "output_type": "stream",
     "text": [
      "f1_score         0.7439613526570048\n",
      "accuracy_score   0.636986301369863\n",
      "precision_score  0.7475728155339806\n",
      "recall_score     0.7403846153846154\n",
      "classification_report\n",
      "              precision    recall  f1-score   support\n",
      "\n",
      "           1       0.75      0.74      0.74       104\n",
      "           2       0.37      0.38      0.38        42\n",
      "\n",
      "    accuracy                           0.64       146\n",
      "   macro avg       0.56      0.56      0.56       146\n",
      "weighted avg       0.64      0.64      0.64       146\n",
      "\n",
      "confusion_matrix\n",
      "[[77 27]\n",
      " [26 16]]\n"
     ]
    }
   ],
   "source": [
    "from sklearn.ensemble import GradientBoostingClassifier\n",
    "from sklearn.metrics import classification_report, accuracy_score, f1_score, precision_score, recall_score,confusion_matrix,roc_auc_score\n",
    "\n",
    "modelcv=GradientBoostingClassifier(subsample= 1, n_estimators= 300, min_samples_split= 10,\n",
    "                                   min_samples_leaf= 1, max_features= 'sqrt', max_depth= 5, learning_rate= 1,random_state=47)\n",
    "modelcv.fit(smot_scl_trainx,smot_trainy)\n",
    "ypred_dt=modelcv.predict(scl_testx)\n",
    "\n",
    "print('f1_score        ',f1_score(ypred_dt,testy))\n",
    "print('accuracy_score  ',accuracy_score(ypred_dt,testy))\n",
    "print('precision_score ',precision_score(ypred_dt,testy))\n",
    "print('recall_score    ',recall_score(ypred_dt,testy))\n",
    "print('classification_report')\n",
    "print(classification_report(ypred_dt,testy))\n",
    "print('confusion_matrix')\n",
    "print(confusion_matrix(ypred_dt,testy))"
   ]
  },
  {
   "cell_type": "code",
   "execution_count": 13,
   "id": "036d0b87-7d39-4f49-9830-4b7c3cc9507b",
   "metadata": {},
   "outputs": [],
   "source": [
    "pickle.dump(ss, open('StandardScaler.pkl','wb'))\n",
    "pickle.dump(modelcv, open('model.pkl','wb'))"
   ]
  },
  {
   "cell_type": "code",
   "execution_count": 14,
   "id": "82e0e21e-4ed3-4979-92bc-d6c266856470",
   "metadata": {},
   "outputs": [
    {
     "name": "stdout",
     "output_type": "stream",
     "text": [
      "[1]\n"
     ]
    }
   ],
   "source": [
    "\n",
    "model = pickle.load(open('model.pkl','rb'))\n",
    "print(model.predict([[62,1.0,0.4,182,14,20,6.8,3.4,1,0.74]]))"
   ]
  },
  {
   "cell_type": "code",
   "execution_count": 18,
   "id": "70cac228-c54d-4593-a1fc-26650484f659",
   "metadata": {},
   "outputs": [
    {
     "name": "stdout",
     "output_type": "stream",
     "text": [
      "Note: you may need to restart the kernel to use updated packages.\n"
     ]
    }
   ],
   "source": [
    "pip freeze > requirements.txt"
   ]
  },
  {
   "cell_type": "code",
   "execution_count": null,
   "id": "f1d032e4",
   "metadata": {},
   "outputs": [],
   "source": []
  }
 ],
 "metadata": {
  "kernelspec": {
   "display_name": "Python 3 (ipykernel)",
   "language": "python",
   "name": "python3"
  },
  "language_info": {
   "codemirror_mode": {
    "name": "ipython",
    "version": 3
   },
   "file_extension": ".py",
   "mimetype": "text/x-python",
   "name": "python",
   "nbconvert_exporter": "python",
   "pygments_lexer": "ipython3",
   "version": "3.11.7"
  }
 },
 "nbformat": 4,
 "nbformat_minor": 5
}
