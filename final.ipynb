{
 "cells": [
  {
   "cell_type": "code",
   "execution_count": 35,
   "id": "f128d15e-1512-4f63-a4a2-c716f64cd30a",
   "metadata": {},
   "outputs": [],
   "source": [
    "import numpy as np\n",
    "import seaborn as sns\n",
    "import matplotlib.pyplot as plt\n",
    "%matplotlib inline\n",
    "import pandas as pd\n",
    "import warnings as wn\n",
    "wn.filterwarnings('ignore')\n",
    "pd.set_option('display.max_columns', None)\n",
    "import pickle"
   ]
  },
  {
   "cell_type": "code",
   "execution_count": 61,
   "id": "621a69a3-33f7-4ba5-b892-99e28d138780",
   "metadata": {},
   "outputs": [],
   "source": [
    "raw_liver=pd.read_csv(\"Indian Liver Patient Dataset (ILPD).csv\")\n",
    "raw_liver.columns=['Age','Gender','Total_Bilirubin','Direct_Bilirubin','Alkaline_Phosphotase','Alamine_Aminotransferase','Aspartate_Aminotransferase','Total_Protiens','Albumin','Albumin_and_Globulin_Ratio','Target']\n",
    "col=['Age', 'Total_Bilirubin', 'Direct_Bilirubin', 'Alkaline_Phosphotase',\n",
    "       'Alamine_Aminotransferase', 'Aspartate_Aminotransferase',\n",
    "       'Total_Protiens', 'Albumin',\n",
    "       'Albumin_and_Globulin_Ratio', 'Gender','Target']\n",
    "data=pd.DataFrame()\n",
    "for x in col:\n",
    "    data[x]=raw_liver[x]"
   ]
  },
  {
   "cell_type": "code",
   "execution_count": null,
   "id": "99bb2c9d-c346-4bb1-8115-8786475d5764",
   "metadata": {},
   "outputs": [],
   "source": []
  },
  {
   "cell_type": "code",
   "execution_count": 37,
   "id": "8838316f-64b7-4bc2-9d9c-09cc254d4fb8",
   "metadata": {},
   "outputs": [],
   "source": [
    "col=['Age', 'Total_Bilirubin', 'Direct_Bilirubin', 'Alkaline_Phosphotase',\n",
    "       'Alamine_Aminotransferase', 'Aspartate_Aminotransferase',\n",
    "       'Total_Protiens', 'Albumin',\n",
    "       'Albumin_and_Globulin_Ratio', 'Gender']\n",
    "data=pd.DataFrame()\n",
    "for x in col:\n",
    "    data[x]=raw_liver[x]"
   ]
  },
  {
   "cell_type": "code",
   "execution_count": 38,
   "id": "6b3483bc-e276-4a93-be12-1f14fdaaad24",
   "metadata": {},
   "outputs": [],
   "source": [
    "def NAN_replace(df,column_name,x):\n",
    "    #x=mean,median,mode,random,nan_binary,end_distribution\n",
    "    if x=='mean':\n",
    "        df[column_name+'_'+x+'_replaced']=df[column_name]\n",
    "        df[column_name+'_'+x+'_replaced']=df[column_name+'_'+x+'_replaced'].replace(to_replace=np.nan,value=df[column_name].mean(),inplace=False)\n",
    "    if x=='median':\n",
    "        df[column_name+'_'+x+'_replaced']=df[column_name]\n",
    "        df[column_name+'_'+x+'_replaced']=df[column_name+'_'+x+'_replaced'].replace(to_replace=np.nan,value=df[column_name].median(),inplace=False)\n",
    "    if x=='mode':\n",
    "        df[column_name+'_'+x+'_replaced']=df[column_name]\n",
    "        df[column_name+'_'+x+'_replaced']=df[column_name+'_'+x+'_replaced'].replace(to_replace=np.nan,value=df[column_name].mode(),inplace=False)\n",
    "    if x=='random':\n",
    "        df[column_name+'_random'] = df[column_name]  \n",
    "        random_sample = df[column_name].dropna().sample(df[column_name].isnull().sum(), random_state=0)  \n",
    "        random_sample.index = df[df['Age'].isnull()].index  \n",
    "        df.loc[df2[column_name].isnull(), column_name+'_random'] = random_sample \n",
    "    if x=='nan_binary':\n",
    "        df[column_name+'_nan_binary']=np.where(d[column_name].isnull(),1,0)\n",
    "    if x=='end_distribution':\n",
    "        df[column_name+'_end _distribution']=df[column_name].fillna(df[column_name].mean()+3*df3[column_name].std())\n",
    "    "
   ]
  },
  {
   "cell_type": "code",
   "execution_count": 39,
   "id": "0a27c224-5e09-4c77-aa64-d30003f6496c",
   "metadata": {},
   "outputs": [],
   "source": [
    "NAN_replace(data,'Albumin_and_Globulin_Ratio','median')"
   ]
  },
  {
   "cell_type": "code",
   "execution_count": null,
   "id": "21451568-1af7-4d82-9772-1027a5f58ba8",
   "metadata": {},
   "outputs": [],
   "source": []
  },
  {
   "cell_type": "code",
   "execution_count": 40,
   "id": "eb86bd51-f7ee-4a7d-ab87-cf49f5667376",
   "metadata": {},
   "outputs": [],
   "source": [
    "data['Gender']=data['Gender'].replace({'Male':1,'Female':0})"
   ]
  },
  {
   "cell_type": "code",
   "execution_count": 41,
   "id": "956208da-e357-43b6-a1bb-f658dd261a88",
   "metadata": {},
   "outputs": [],
   "source": [
    "data.drop(columns='Albumin_and_Globulin_Ratio',inplace=True)"
   ]
  },
  {
   "cell_type": "code",
   "execution_count": 42,
   "id": "a7bff868-8ab9-4208-8b42-627c1284f922",
   "metadata": {},
   "outputs": [
    {
     "name": "stdout",
     "output_type": "stream",
     "text": [
      "(436, 10) (436,)\n",
      "(146, 10) (146,)\n"
     ]
    }
   ],
   "source": [
    "x=data\n",
    "y=raw_liver['Target']\n",
    "from sklearn.model_selection import train_test_split\n",
    "trainx,testx,trainy,testy=train_test_split(x,y,test_size=0.25,random_state=47)\n",
    "print(trainx.shape  ,  trainy.shape)\n",
    "print(testx.shape  ,   testy.shape)"
   ]
  },
  {
   "cell_type": "code",
   "execution_count": 43,
   "id": "7314fb43-66b5-4902-b6e6-88a8ee9adf47",
   "metadata": {},
   "outputs": [
    {
     "name": "stdout",
     "output_type": "stream",
     "text": [
      "Target\n",
      "1    312\n",
      "2    124\n",
      "Name: count, dtype: int64\n",
      "Target\n",
      "2    298\n",
      "1    298\n",
      "Name: count, dtype: int64\n"
     ]
    }
   ],
   "source": [
    "from imblearn.combine import SMOTETomek\n",
    "sm=SMOTETomek()\n",
    "smot_trainx,smot_trainy=sm.fit_resample(trainx,trainy)\n",
    "print(trainy.value_counts())\n",
    "print(smot_trainy.value_counts())"
   ]
  },
  {
   "cell_type": "code",
   "execution_count": 44,
   "id": "e73e71da-367f-4d8f-bf39-b6fdf089e6f2",
   "metadata": {},
   "outputs": [],
   "source": [
    "from sklearn.preprocessing import StandardScaler\n",
    "ss=StandardScaler()\n",
    "smot_scl_trainx=ss.fit_transform(smot_trainx)\n",
    "scl_testx=ss.transform(testx)"
   ]
  },
  {
   "cell_type": "code",
   "execution_count": 45,
   "id": "4ef6da32-68a8-450a-a42f-b16436ea2895",
   "metadata": {},
   "outputs": [
    {
     "name": "stdout",
     "output_type": "stream",
     "text": [
      "f1_score         0.6875\n",
      "accuracy_score   0.589041095890411\n",
      "precision_score  0.6407766990291263\n",
      "recall_score     0.7415730337078652\n",
      "classification_report\n",
      "              precision    recall  f1-score   support\n",
      "\n",
      "           1       0.64      0.74      0.69        89\n",
      "           2       0.47      0.35      0.40        57\n",
      "\n",
      "    accuracy                           0.59       146\n",
      "   macro avg       0.55      0.55      0.54       146\n",
      "weighted avg       0.57      0.59      0.58       146\n",
      "\n",
      "confusion_matrix\n",
      "[[66 23]\n",
      " [37 20]]\n"
     ]
    }
   ],
   "source": [
    "from sklearn.ensemble import GradientBoostingClassifier\n",
    "from sklearn.metrics import classification_report, accuracy_score, f1_score, precision_score, recall_score,confusion_matrix,roc_auc_score\n",
    "model=GradientBoostingClassifier(random_state=47)\n",
    "model.fit(smot_scl_trainx,smot_trainy)\n",
    "ypred_svc=model.predict(scl_testx)\n",
    "\n",
    "print('f1_score        ',f1_score(ypred_svc,testy))\n",
    "print('accuracy_score  ',accuracy_score(ypred_svc,testy))\n",
    "print('precision_score ',precision_score(ypred_svc,testy))\n",
    "print('recall_score    ',recall_score(ypred_svc,testy))\n",
    "print('classification_report')\n",
    "print(classification_report(ypred_svc,testy))\n",
    "print('confusion_matrix')\n",
    "print(confusion_matrix(ypred_svc,testy))"
   ]
  },
  {
   "cell_type": "code",
   "execution_count": 46,
   "id": "27943069-c683-4315-9db3-94ba52950d99",
   "metadata": {},
   "outputs": [
    {
     "name": "stdout",
     "output_type": "stream",
     "text": [
      "{'subsample': 1.0, 'n_estimators': 300, 'min_samples_split': 10, 'min_samples_leaf': 1, 'max_features': 'sqrt', 'max_depth': 5, 'learning_rate': 1}\n"
     ]
    }
   ],
   "source": [
    "from sklearn.model_selection import RandomizedSearchCV\n",
    "grid_gb = {\n",
    "    'n_estimators': [100, 200, 300],\n",
    "    'learning_rate': [0.01, 0.1, 1],\n",
    "    'max_depth': [3, 5, 7],\n",
    "    'min_samples_split': [2, 5, 10],\n",
    "    'min_samples_leaf': [1, 2, 4],\n",
    "    'subsample': [0.8, 0.9, 1.0],\n",
    "    'max_features': ['auto', 'sqrt', 'log2', None]\n",
    "}\n",
    "modelcv=RandomizedSearchCV(estimator=model,param_distributions=grid_gb,n_iter=5,n_jobs=-1,cv=5,random_state=47)\n",
    "modelcv.fit(smot_scl_trainx,smot_trainy)\n",
    "print(modelcv.best_params_)\n",
    "\n",
    "\n"
   ]
  },
  {
   "cell_type": "code",
   "execution_count": 47,
   "id": "bc7cda34-235d-4aab-8f3a-eaf7ef71eab5",
   "metadata": {},
   "outputs": [
    {
     "name": "stdout",
     "output_type": "stream",
     "text": [
      "f1_score         0.7263681592039801\n",
      "accuracy_score   0.6232876712328768\n",
      "precision_score  0.7087378640776699\n",
      "recall_score     0.7448979591836735\n",
      "classification_report\n",
      "              precision    recall  f1-score   support\n",
      "\n",
      "           1       0.71      0.74      0.73        98\n",
      "           2       0.42      0.38      0.40        48\n",
      "\n",
      "    accuracy                           0.62       146\n",
      "   macro avg       0.56      0.56      0.56       146\n",
      "weighted avg       0.61      0.62      0.62       146\n",
      "\n",
      "confusion_matrix\n",
      "[[73 25]\n",
      " [30 18]]\n"
     ]
    }
   ],
   "source": [
    "modelcv=GradientBoostingClassifier(subsample= 1, n_estimators= 300, min_samples_split= 10,\n",
    "                                   min_samples_leaf= 1, max_features= 'sqrt', max_depth= 5, learning_rate= 1,random_state=47)\n",
    "modelcv.fit(smot_scl_trainx,smot_trainy)\n",
    "ypred_dt=modelcv.predict(scl_testx)\n",
    "\n",
    "print('f1_score        ',f1_score(ypred_dt,testy))\n",
    "print('accuracy_score  ',accuracy_score(ypred_dt,testy))\n",
    "print('precision_score ',precision_score(ypred_dt,testy))\n",
    "print('recall_score    ',recall_score(ypred_dt,testy))\n",
    "print('classification_report')\n",
    "print(classification_report(ypred_dt,testy))\n",
    "print('confusion_matrix')\n",
    "print(confusion_matrix(ypred_dt,testy))"
   ]
  },
  {
   "cell_type": "code",
   "execution_count": 59,
   "id": "036d0b87-7d39-4f49-9830-4b7c3cc9507b",
   "metadata": {},
   "outputs": [],
   "source": [
    "pickle.dump(ss, open('StandardScaler.pkl','wb'))\n",
    "pickle.dump(modelcv, open('model.pkl','wb'))"
   ]
  },
  {
   "cell_type": "code",
   "execution_count": 57,
   "id": "82e0e21e-4ed3-4979-92bc-d6c266856470",
   "metadata": {},
   "outputs": [
    {
     "name": "stdout",
     "output_type": "stream",
     "text": [
      "[1]\n"
     ]
    }
   ],
   "source": [
    "\n",
    "model = pickle.load(open('model.pkl','rb'))\n",
    "print(model.predict([[62,1.0,0.4,182,14,20,6.8,3.4,1,0.74]]))"
   ]
  },
  {
   "cell_type": "code",
   "execution_count": 58,
   "id": "be37b460-48ae-4736-b3cb-d0c7483e07ce",
   "metadata": {},
   "outputs": [
    {
     "data": {
      "text/plain": [
       "Index(['Age', 'Total_Bilirubin', 'Direct_Bilirubin', 'Alkaline_Phosphotase',\n",
       "       'Alamine_Aminotransferase', 'Aspartate_Aminotransferase',\n",
       "       'Total_Protiens', 'Albumin', 'Gender',\n",
       "       'Albumin_and_Globulin_Ratio_median_replaced'],\n",
       "      dtype='object')"
      ]
     },
     "execution_count": 58,
     "metadata": {},
     "output_type": "execute_result"
    }
   ],
   "source": [
    "data.columns"
   ]
  },
  {
   "cell_type": "code",
   "execution_count": 66,
   "id": "0b6482e9-2c41-469b-833b-2f91d143b11a",
   "metadata": {},
   "outputs": [
    {
     "data": {
      "text/html": [
       "<div>\n",
       "<style scoped>\n",
       "    .dataframe tbody tr th:only-of-type {\n",
       "        vertical-align: middle;\n",
       "    }\n",
       "\n",
       "    .dataframe tbody tr th {\n",
       "        vertical-align: top;\n",
       "    }\n",
       "\n",
       "    .dataframe thead th {\n",
       "        text-align: right;\n",
       "    }\n",
       "</style>\n",
       "<table border=\"1\" class=\"dataframe\">\n",
       "  <thead>\n",
       "    <tr style=\"text-align: right;\">\n",
       "      <th></th>\n",
       "      <th>Age</th>\n",
       "      <th>Total_Bilirubin</th>\n",
       "      <th>Direct_Bilirubin</th>\n",
       "      <th>Alkaline_Phosphotase</th>\n",
       "      <th>Alamine_Aminotransferase</th>\n",
       "      <th>Aspartate_Aminotransferase</th>\n",
       "      <th>Total_Protiens</th>\n",
       "      <th>Albumin</th>\n",
       "      <th>Albumin_and_Globulin_Ratio</th>\n",
       "      <th>Gender</th>\n",
       "      <th>Target</th>\n",
       "    </tr>\n",
       "  </thead>\n",
       "  <tbody>\n",
       "    <tr>\n",
       "      <th>7</th>\n",
       "      <td>17</td>\n",
       "      <td>0.9</td>\n",
       "      <td>0.3</td>\n",
       "      <td>202</td>\n",
       "      <td>22</td>\n",
       "      <td>19</td>\n",
       "      <td>7.4</td>\n",
       "      <td>4.1</td>\n",
       "      <td>1.20</td>\n",
       "      <td>Male</td>\n",
       "      <td>2</td>\n",
       "    </tr>\n",
       "    <tr>\n",
       "      <th>11</th>\n",
       "      <td>64</td>\n",
       "      <td>0.9</td>\n",
       "      <td>0.3</td>\n",
       "      <td>310</td>\n",
       "      <td>61</td>\n",
       "      <td>58</td>\n",
       "      <td>7.0</td>\n",
       "      <td>3.4</td>\n",
       "      <td>0.90</td>\n",
       "      <td>Male</td>\n",
       "      <td>2</td>\n",
       "    </tr>\n",
       "    <tr>\n",
       "      <th>14</th>\n",
       "      <td>25</td>\n",
       "      <td>0.6</td>\n",
       "      <td>0.1</td>\n",
       "      <td>183</td>\n",
       "      <td>91</td>\n",
       "      <td>53</td>\n",
       "      <td>5.5</td>\n",
       "      <td>2.3</td>\n",
       "      <td>0.70</td>\n",
       "      <td>Male</td>\n",
       "      <td>2</td>\n",
       "    </tr>\n",
       "    <tr>\n",
       "      <th>16</th>\n",
       "      <td>33</td>\n",
       "      <td>1.6</td>\n",
       "      <td>0.5</td>\n",
       "      <td>165</td>\n",
       "      <td>15</td>\n",
       "      <td>23</td>\n",
       "      <td>7.3</td>\n",
       "      <td>3.5</td>\n",
       "      <td>0.92</td>\n",
       "      <td>Male</td>\n",
       "      <td>2</td>\n",
       "    </tr>\n",
       "    <tr>\n",
       "      <th>23</th>\n",
       "      <td>63</td>\n",
       "      <td>0.9</td>\n",
       "      <td>0.2</td>\n",
       "      <td>194</td>\n",
       "      <td>52</td>\n",
       "      <td>45</td>\n",
       "      <td>6.0</td>\n",
       "      <td>3.9</td>\n",
       "      <td>1.85</td>\n",
       "      <td>Male</td>\n",
       "      <td>2</td>\n",
       "    </tr>\n",
       "    <tr>\n",
       "      <th>...</th>\n",
       "      <td>...</td>\n",
       "      <td>...</td>\n",
       "      <td>...</td>\n",
       "      <td>...</td>\n",
       "      <td>...</td>\n",
       "      <td>...</td>\n",
       "      <td>...</td>\n",
       "      <td>...</td>\n",
       "      <td>...</td>\n",
       "      <td>...</td>\n",
       "      <td>...</td>\n",
       "    </tr>\n",
       "    <tr>\n",
       "      <th>550</th>\n",
       "      <td>29</td>\n",
       "      <td>1.2</td>\n",
       "      <td>0.4</td>\n",
       "      <td>160</td>\n",
       "      <td>20</td>\n",
       "      <td>22</td>\n",
       "      <td>6.2</td>\n",
       "      <td>3.0</td>\n",
       "      <td>0.90</td>\n",
       "      <td>Male</td>\n",
       "      <td>2</td>\n",
       "    </tr>\n",
       "    <tr>\n",
       "      <th>563</th>\n",
       "      <td>38</td>\n",
       "      <td>0.6</td>\n",
       "      <td>0.1</td>\n",
       "      <td>165</td>\n",
       "      <td>22</td>\n",
       "      <td>34</td>\n",
       "      <td>5.9</td>\n",
       "      <td>2.9</td>\n",
       "      <td>0.90</td>\n",
       "      <td>Female</td>\n",
       "      <td>2</td>\n",
       "    </tr>\n",
       "    <tr>\n",
       "      <th>565</th>\n",
       "      <td>50</td>\n",
       "      <td>1.0</td>\n",
       "      <td>0.3</td>\n",
       "      <td>191</td>\n",
       "      <td>22</td>\n",
       "      <td>31</td>\n",
       "      <td>7.8</td>\n",
       "      <td>4.0</td>\n",
       "      <td>1.00</td>\n",
       "      <td>Female</td>\n",
       "      <td>2</td>\n",
       "    </tr>\n",
       "    <tr>\n",
       "      <th>577</th>\n",
       "      <td>60</td>\n",
       "      <td>0.5</td>\n",
       "      <td>0.1</td>\n",
       "      <td>500</td>\n",
       "      <td>20</td>\n",
       "      <td>34</td>\n",
       "      <td>5.9</td>\n",
       "      <td>1.6</td>\n",
       "      <td>0.37</td>\n",
       "      <td>Male</td>\n",
       "      <td>2</td>\n",
       "    </tr>\n",
       "    <tr>\n",
       "      <th>581</th>\n",
       "      <td>38</td>\n",
       "      <td>1.0</td>\n",
       "      <td>0.3</td>\n",
       "      <td>216</td>\n",
       "      <td>21</td>\n",
       "      <td>24</td>\n",
       "      <td>7.3</td>\n",
       "      <td>4.4</td>\n",
       "      <td>1.50</td>\n",
       "      <td>Male</td>\n",
       "      <td>2</td>\n",
       "    </tr>\n",
       "  </tbody>\n",
       "</table>\n",
       "<p>167 rows × 11 columns</p>\n",
       "</div>"
      ],
      "text/plain": [
       "     Age  Total_Bilirubin  Direct_Bilirubin  Alkaline_Phosphotase  \\\n",
       "7     17              0.9               0.3                   202   \n",
       "11    64              0.9               0.3                   310   \n",
       "14    25              0.6               0.1                   183   \n",
       "16    33              1.6               0.5                   165   \n",
       "23    63              0.9               0.2                   194   \n",
       "..   ...              ...               ...                   ...   \n",
       "550   29              1.2               0.4                   160   \n",
       "563   38              0.6               0.1                   165   \n",
       "565   50              1.0               0.3                   191   \n",
       "577   60              0.5               0.1                   500   \n",
       "581   38              1.0               0.3                   216   \n",
       "\n",
       "     Alamine_Aminotransferase  Aspartate_Aminotransferase  Total_Protiens  \\\n",
       "7                          22                          19             7.4   \n",
       "11                         61                          58             7.0   \n",
       "14                         91                          53             5.5   \n",
       "16                         15                          23             7.3   \n",
       "23                         52                          45             6.0   \n",
       "..                        ...                         ...             ...   \n",
       "550                        20                          22             6.2   \n",
       "563                        22                          34             5.9   \n",
       "565                        22                          31             7.8   \n",
       "577                        20                          34             5.9   \n",
       "581                        21                          24             7.3   \n",
       "\n",
       "     Albumin  Albumin_and_Globulin_Ratio  Gender  Target  \n",
       "7        4.1                        1.20    Male       2  \n",
       "11       3.4                        0.90    Male       2  \n",
       "14       2.3                        0.70    Male       2  \n",
       "16       3.5                        0.92    Male       2  \n",
       "23       3.9                        1.85    Male       2  \n",
       "..       ...                         ...     ...     ...  \n",
       "550      3.0                        0.90    Male       2  \n",
       "563      2.9                        0.90  Female       2  \n",
       "565      4.0                        1.00  Female       2  \n",
       "577      1.6                        0.37    Male       2  \n",
       "581      4.4                        1.50    Male       2  \n",
       "\n",
       "[167 rows x 11 columns]"
      ]
     },
     "execution_count": 66,
     "metadata": {},
     "output_type": "execute_result"
    }
   ],
   "source": [
    "data[data['Target']==2]"
   ]
  },
  {
   "cell_type": "code",
   "execution_count": null,
   "id": "70cac228-c54d-4593-a1fc-26650484f659",
   "metadata": {},
   "outputs": [],
   "source": []
  }
 ],
 "metadata": {
  "kernelspec": {
   "display_name": "Python 3 (ipykernel)",
   "language": "python",
   "name": "python3"
  },
  "language_info": {
   "codemirror_mode": {
    "name": "ipython",
    "version": 3
   },
   "file_extension": ".py",
   "mimetype": "text/x-python",
   "name": "python",
   "nbconvert_exporter": "python",
   "pygments_lexer": "ipython3",
   "version": "3.11.7"
  }
 },
 "nbformat": 4,
 "nbformat_minor": 5
}
