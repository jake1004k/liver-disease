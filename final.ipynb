{
 "cells": [
  {
   "cell_type": "code",
   "execution_count": 2,
   "id": "f128d15e-1512-4f63-a4a2-c716f64cd30a",
   "metadata": {},
   "outputs": [],
   "source": [
    "import numpy as np\n",
    "\n",
    "import pandas as pd\n",
    "\n",
    "import pickle"
   ]
  },
  {
   "cell_type": "code",
   "execution_count": 20,
   "id": "621a69a3-33f7-4ba5-b892-99e28d138780",
   "metadata": {},
   "outputs": [],
   "source": [
    "raw_liver=pd.read_csv(\"Indian Liver Patient Dataset (ILPD).csv\")\n",
    "raw_liver.columns=['Age','Gender','Total_Bilirubin','Direct_Bilirubin','Alkaline_Phosphotase','Alamine_Aminotransferase','Aspartate_Aminotransferase','Total_Protiens','Albumin','Albumin_and_Globulin_Ratio','Target']\n",
    "col=['Age', 'Total_Bilirubin', 'Direct_Bilirubin', 'Alkaline_Phosphotase',\n",
    "       'Alamine_Aminotransferase', 'Aspartate_Aminotransferase',\n",
    "       'Total_Protiens', 'Albumin',\n",
    "       'Albumin_and_Globulin_Ratio', 'Gender','Target']\n",
    "data=pd.DataFrame()\n",
    "for x in col:\n",
    "    data[x]=raw_liver[x]"
   ]
  },
  {
   "cell_type": "code",
   "execution_count": 21,
   "id": "6b3483bc-e276-4a93-be12-1f14fdaaad24",
   "metadata": {},
   "outputs": [],
   "source": [
    "def NAN_replace(df,column_name,x):\n",
    "    #x=mean,median,mode,random,nan_binary,end_distribution\n",
    "    if x=='mean':\n",
    "        df[column_name+'_'+x+'_replaced']=df[column_name]\n",
    "        df[column_name+'_'+x+'_replaced']=df[column_name+'_'+x+'_replaced'].replace(to_replace=np.nan,value=df[column_name].mean(),inplace=False)\n",
    "    if x=='median':\n",
    "        df[column_name+'_'+x+'_replaced']=df[column_name]\n",
    "        df[column_name+'_'+x+'_replaced']=df[column_name+'_'+x+'_replaced'].replace(to_replace=np.nan,value=df[column_name].median(),inplace=False)\n",
    "    if x=='mode':\n",
    "        df[column_name+'_'+x+'_replaced']=df[column_name]\n",
    "        df[column_name+'_'+x+'_replaced']=df[column_name+'_'+x+'_replaced'].replace(to_replace=np.nan,value=df[column_name].mode(),inplace=False)\n",
    "    if x=='random':\n",
    "        df[column_name+'_random'] = df[column_name]  \n",
    "        random_sample = df[column_name].dropna().sample(df[column_name].isnull().sum(), random_state=0)  \n",
    "        random_sample.index = df[df['Age'].isnull()].index  \n",
    "        df.loc[df2[column_name].isnull(), column_name+'_random'] = random_sample \n",
    "    if x=='nan_binary':\n",
    "        df[column_name+'_nan_binary']=np.where(d[column_name].isnull(),1,0)\n",
    "    if x=='end_distribution':\n",
    "        df[column_name+'_end _distribution']=df[column_name].fillna(df[column_name].mean()+3*df3[column_name].std())\n",
    "    "
   ]
  },
  {
   "cell_type": "code",
   "execution_count": 22,
   "id": "0a27c224-5e09-4c77-aa64-d30003f6496c",
   "metadata": {},
   "outputs": [],
   "source": [
    "NAN_replace(data,'Albumin_and_Globulin_Ratio','median')"
   ]
  },
  {
   "cell_type": "code",
   "execution_count": 23,
   "id": "eb86bd51-f7ee-4a7d-ab87-cf49f5667376",
   "metadata": {},
   "outputs": [
    {
     "name": "stderr",
     "output_type": "stream",
     "text": [
      "C:\\Users\\FCI\\AppData\\Local\\Temp\\ipykernel_5056\\2187504411.py:1: FutureWarning: Downcasting behavior in `replace` is deprecated and will be removed in a future version. To retain the old behavior, explicitly call `result.infer_objects(copy=False)`. To opt-in to the future behavior, set `pd.set_option('future.no_silent_downcasting', True)`\n",
      "  data['Gender']=data['Gender'].replace({'Male':1,'Female':0})\n"
     ]
    }
   ],
   "source": [
    "data['Gender']=data['Gender'].replace({'Male':1,'Female':0})"
   ]
  },
  {
   "cell_type": "code",
   "execution_count": 24,
   "id": "956208da-e357-43b6-a1bb-f658dd261a88",
   "metadata": {},
   "outputs": [],
   "source": [
    "data.drop(columns='Albumin_and_Globulin_Ratio',inplace=True)"
   ]
  },
  {
   "cell_type": "code",
   "execution_count": 25,
   "id": "a7bff868-8ab9-4208-8b42-627c1284f922",
   "metadata": {},
   "outputs": [
    {
     "name": "stdout",
     "output_type": "stream",
     "text": [
      "(436, 11) (436,)\n",
      "(146, 11) (146,)\n"
     ]
    }
   ],
   "source": [
    "x=data.drop(columns='Target')\n",
    "y=raw_liver['Target']\n",
    "from sklearn.model_selection import train_test_split\n",
    "trainx,testx,trainy,testy=train_test_split(x,y,test_size=0.25,random_state=47)\n",
    "print(trainx.shape  ,  trainy.shape)\n",
    "print(testx.shape  ,   testy.shape)"
   ]
  },
  {
   "cell_type": "code",
   "execution_count": 26,
   "id": "7314fb43-66b5-4902-b6e6-88a8ee9adf47",
   "metadata": {},
   "outputs": [
    {
     "name": "stdout",
     "output_type": "stream",
     "text": [
      "Target\n",
      "1    312\n",
      "2    124\n",
      "Name: count, dtype: int64\n",
      "Target\n",
      "2    295\n",
      "1    295\n",
      "Name: count, dtype: int64\n"
     ]
    }
   ],
   "source": [
    "from imblearn.combine import SMOTETomek\n",
    "sm=SMOTETomek()\n",
    "smot_trainx,smot_trainy=sm.fit_resample(trainx,trainy)\n",
    "print(trainy.value_counts())\n",
    "print(smot_trainy.value_counts())"
   ]
  },
  {
   "cell_type": "code",
   "execution_count": 27,
   "id": "e73e71da-367f-4d8f-bf39-b6fdf089e6f2",
   "metadata": {},
   "outputs": [],
   "source": [
    "from sklearn.preprocessing import StandardScaler\n",
    "ss=StandardScaler()\n",
    "smot_scl_trainx=ss.fit_transform(smot_trainx)\n",
    "scl_testx=ss.transform(testx)"
   ]
  },
  {
   "cell_type": "code",
   "execution_count": 12,
   "id": "bc7cda34-235d-4aab-8f3a-eaf7ef71eab5",
   "metadata": {},
   "outputs": [
    {
     "name": "stdout",
     "output_type": "stream",
     "text": [
      "f1_score         0.7439613526570048\n",
      "accuracy_score   0.636986301369863\n",
      "precision_score  0.7475728155339806\n",
      "recall_score     0.7403846153846154\n",
      "classification_report\n",
      "              precision    recall  f1-score   support\n",
      "\n",
      "           1       0.75      0.74      0.74       104\n",
      "           2       0.37      0.38      0.38        42\n",
      "\n",
      "    accuracy                           0.64       146\n",
      "   macro avg       0.56      0.56      0.56       146\n",
      "weighted avg       0.64      0.64      0.64       146\n",
      "\n",
      "confusion_matrix\n",
      "[[77 27]\n",
      " [26 16]]\n"
     ]
    }
   ],
   "source": [
    "from sklearn.ensemble import GradientBoostingClassifier\n",
    "from sklearn.metrics import classification_report, accuracy_score, f1_score, precision_score, recall_score,confusion_matrix,roc_auc_score\n",
    "\n",
    "modelcv=GradientBoostingClassifier(subsample= 1, n_estimators= 300, min_samples_split= 10,\n",
    "                                   min_samples_leaf= 1, max_features= 'sqrt', max_depth= 5, learning_rate= 1,random_state=47)\n",
    "modelcv.fit(smot_scl_trainx,smot_trainy)\n",
    "ypred_dt=modelcv.predict(scl_testx)\n",
    "\n",
    "print('f1_score        ',f1_score(ypred_dt,testy))\n",
    "print('accuracy_score  ',accuracy_score(ypred_dt,testy))\n",
    "print('precision_score ',precision_score(ypred_dt,testy))\n",
    "print('recall_score    ',recall_score(ypred_dt,testy))\n",
    "print('classification_report')\n",
    "print(classification_report(ypred_dt,testy))\n",
    "print('confusion_matrix')\n",
    "print(confusion_matrix(ypred_dt,testy))"
   ]
  },
  {
   "cell_type": "code",
   "execution_count": 13,
   "id": "036d0b87-7d39-4f49-9830-4b7c3cc9507b",
   "metadata": {},
   "outputs": [],
   "source": [
    "pickle.dump(ss, open('StandardScaler.pkl','wb'))\n",
    "pickle.dump(modelcv, open('model.pkl','wb'))"
   ]
  },
  {
   "cell_type": "code",
   "execution_count": 14,
   "id": "82e0e21e-4ed3-4979-92bc-d6c266856470",
   "metadata": {},
   "outputs": [
    {
     "name": "stdout",
     "output_type": "stream",
     "text": [
      "[1]\n"
     ]
    }
   ],
   "source": [
    "\n",
    "model = pickle.load(open('model.pkl','rb'))\n",
    "print(model.predict([[62,1.0,0.4,182,14,20,6.8,3.4,1,0.74]]))"
   ]
  },
  {
   "cell_type": "code",
   "execution_count": 13,
   "id": "f1d032e4",
   "metadata": {},
   "outputs": [
    {
     "data": {
      "text/plain": [
       "Index(['Age', 'Total_Bilirubin', 'Direct_Bilirubin', 'Alkaline_Phosphotase',\n",
       "       'Alamine_Aminotransferase', 'Aspartate_Aminotransferase',\n",
       "       'Total_Protiens', 'Albumin', 'Gender',\n",
       "       'Albumin_and_Globulin_Ratio_median_replaced'],\n",
       "      dtype='object')"
      ]
     },
     "execution_count": 13,
     "metadata": {},
     "output_type": "execute_result"
    }
   ],
   "source": [
    "x=trainx.columns\n"
   ]
  },
  {
   "cell_type": "code",
   "execution_count": 18,
   "id": "fcae072b",
   "metadata": {},
   "outputs": [],
   "source": [
    "x=['Target','Age', 'Total_Bilirubin', 'Direct_Bilirubin', 'Alkaline_Phosphotase',\n",
    "       'Alamine_Aminotransferase', 'Aspartate_Aminotransferase',\n",
    "       'Total_Protiens', 'Albumin', 'Gender',\n",
    "       'Albumin_and_Globulin_Ratio_median_replaced']"
   ]
  },
  {
   "cell_type": "code",
   "execution_count": 33,
   "id": "f4861809",
   "metadata": {},
   "outputs": [
    {
     "data": {
      "text/html": [
       "<div>\n",
       "<style scoped>\n",
       "    .dataframe tbody tr th:only-of-type {\n",
       "        vertical-align: middle;\n",
       "    }\n",
       "\n",
       "    .dataframe tbody tr th {\n",
       "        vertical-align: top;\n",
       "    }\n",
       "\n",
       "    .dataframe thead th {\n",
       "        text-align: right;\n",
       "    }\n",
       "</style>\n",
       "<table border=\"1\" class=\"dataframe\">\n",
       "  <thead>\n",
       "    <tr style=\"text-align: right;\">\n",
       "      <th></th>\n",
       "      <th>Age</th>\n",
       "      <th>Total_Bilirubin</th>\n",
       "      <th>Direct_Bilirubin</th>\n",
       "      <th>Alkaline_Phosphotase</th>\n",
       "      <th>Alamine_Aminotransferase</th>\n",
       "      <th>Aspartate_Aminotransferase</th>\n",
       "      <th>Total_Protiens</th>\n",
       "      <th>Albumin</th>\n",
       "      <th>Gender</th>\n",
       "      <th>Target</th>\n",
       "      <th>Albumin_and_Globulin_Ratio_median_replaced</th>\n",
       "    </tr>\n",
       "  </thead>\n",
       "  <tbody>\n",
       "    <tr>\n",
       "      <th>0</th>\n",
       "      <td>22</td>\n",
       "      <td>1.100000</td>\n",
       "      <td>0.300000</td>\n",
       "      <td>138</td>\n",
       "      <td>14</td>\n",
       "      <td>21</td>\n",
       "      <td>7.000000</td>\n",
       "      <td>3.800000</td>\n",
       "      <td>0</td>\n",
       "      <td>2</td>\n",
       "      <td>1.100000</td>\n",
       "    </tr>\n",
       "    <tr>\n",
       "      <th>1</th>\n",
       "      <td>46</td>\n",
       "      <td>20.000000</td>\n",
       "      <td>10.000000</td>\n",
       "      <td>254</td>\n",
       "      <td>140</td>\n",
       "      <td>540</td>\n",
       "      <td>5.400000</td>\n",
       "      <td>3.000000</td>\n",
       "      <td>1</td>\n",
       "      <td>1</td>\n",
       "      <td>1.200000</td>\n",
       "    </tr>\n",
       "    <tr>\n",
       "      <th>2</th>\n",
       "      <td>33</td>\n",
       "      <td>1.500000</td>\n",
       "      <td>7.000000</td>\n",
       "      <td>505</td>\n",
       "      <td>205</td>\n",
       "      <td>140</td>\n",
       "      <td>7.500000</td>\n",
       "      <td>3.900000</td>\n",
       "      <td>1</td>\n",
       "      <td>1</td>\n",
       "      <td>1.000000</td>\n",
       "    </tr>\n",
       "    <tr>\n",
       "      <th>3</th>\n",
       "      <td>25</td>\n",
       "      <td>0.900000</td>\n",
       "      <td>0.300000</td>\n",
       "      <td>159</td>\n",
       "      <td>24</td>\n",
       "      <td>25</td>\n",
       "      <td>6.900000</td>\n",
       "      <td>4.400000</td>\n",
       "      <td>0</td>\n",
       "      <td>2</td>\n",
       "      <td>1.700000</td>\n",
       "    </tr>\n",
       "    <tr>\n",
       "      <th>4</th>\n",
       "      <td>26</td>\n",
       "      <td>7.100000</td>\n",
       "      <td>3.300000</td>\n",
       "      <td>258</td>\n",
       "      <td>80</td>\n",
       "      <td>113</td>\n",
       "      <td>6.200000</td>\n",
       "      <td>2.900000</td>\n",
       "      <td>1</td>\n",
       "      <td>1</td>\n",
       "      <td>0.800000</td>\n",
       "    </tr>\n",
       "    <tr>\n",
       "      <th>...</th>\n",
       "      <td>...</td>\n",
       "      <td>...</td>\n",
       "      <td>...</td>\n",
       "      <td>...</td>\n",
       "      <td>...</td>\n",
       "      <td>...</td>\n",
       "      <td>...</td>\n",
       "      <td>...</td>\n",
       "      <td>...</td>\n",
       "      <td>...</td>\n",
       "      <td>...</td>\n",
       "    </tr>\n",
       "    <tr>\n",
       "      <th>585</th>\n",
       "      <td>62</td>\n",
       "      <td>0.935032</td>\n",
       "      <td>0.305839</td>\n",
       "      <td>309</td>\n",
       "      <td>60</td>\n",
       "      <td>60</td>\n",
       "      <td>6.941613</td>\n",
       "      <td>3.376645</td>\n",
       "      <td>1</td>\n",
       "      <td>2</td>\n",
       "      <td>0.905839</td>\n",
       "    </tr>\n",
       "    <tr>\n",
       "      <th>586</th>\n",
       "      <td>19</td>\n",
       "      <td>0.604128</td>\n",
       "      <td>0.152064</td>\n",
       "      <td>208</td>\n",
       "      <td>20</td>\n",
       "      <td>22</td>\n",
       "      <td>7.204128</td>\n",
       "      <td>4.291745</td>\n",
       "      <td>0</td>\n",
       "      <td>2</td>\n",
       "      <td>1.439681</td>\n",
       "    </tr>\n",
       "    <tr>\n",
       "      <th>587</th>\n",
       "      <td>25</td>\n",
       "      <td>0.833053</td>\n",
       "      <td>0.277684</td>\n",
       "      <td>159</td>\n",
       "      <td>21</td>\n",
       "      <td>22</td>\n",
       "      <td>6.922316</td>\n",
       "      <td>4.199158</td>\n",
       "      <td>0</td>\n",
       "      <td>2</td>\n",
       "      <td>1.543789</td>\n",
       "    </tr>\n",
       "    <tr>\n",
       "      <th>588</th>\n",
       "      <td>47</td>\n",
       "      <td>0.800000</td>\n",
       "      <td>0.200000</td>\n",
       "      <td>224</td>\n",
       "      <td>24</td>\n",
       "      <td>22</td>\n",
       "      <td>5.706910</td>\n",
       "      <td>2.635176</td>\n",
       "      <td>0</td>\n",
       "      <td>2</td>\n",
       "      <td>0.852688</td>\n",
       "    </tr>\n",
       "    <tr>\n",
       "      <th>589</th>\n",
       "      <td>30</td>\n",
       "      <td>1.219308</td>\n",
       "      <td>0.438616</td>\n",
       "      <td>176</td>\n",
       "      <td>60</td>\n",
       "      <td>39</td>\n",
       "      <td>6.003459</td>\n",
       "      <td>3.145534</td>\n",
       "      <td>1</td>\n",
       "      <td>2</td>\n",
       "      <td>1.042075</td>\n",
       "    </tr>\n",
       "  </tbody>\n",
       "</table>\n",
       "<p>590 rows × 11 columns</p>\n",
       "</div>"
      ],
      "text/plain": [
       "     Age  Total_Bilirubin  Direct_Bilirubin  Alkaline_Phosphotase  \\\n",
       "0     22         1.100000          0.300000                   138   \n",
       "1     46        20.000000         10.000000                   254   \n",
       "2     33         1.500000          7.000000                   505   \n",
       "3     25         0.900000          0.300000                   159   \n",
       "4     26         7.100000          3.300000                   258   \n",
       "..   ...              ...               ...                   ...   \n",
       "585   62         0.935032          0.305839                   309   \n",
       "586   19         0.604128          0.152064                   208   \n",
       "587   25         0.833053          0.277684                   159   \n",
       "588   47         0.800000          0.200000                   224   \n",
       "589   30         1.219308          0.438616                   176   \n",
       "\n",
       "     Alamine_Aminotransferase  Aspartate_Aminotransferase  Total_Protiens  \\\n",
       "0                          14                          21        7.000000   \n",
       "1                         140                         540        5.400000   \n",
       "2                         205                         140        7.500000   \n",
       "3                          24                          25        6.900000   \n",
       "4                          80                         113        6.200000   \n",
       "..                        ...                         ...             ...   \n",
       "585                        60                          60        6.941613   \n",
       "586                        20                          22        7.204128   \n",
       "587                        21                          22        6.922316   \n",
       "588                        24                          22        5.706910   \n",
       "589                        60                          39        6.003459   \n",
       "\n",
       "      Albumin  Gender  Target  Albumin_and_Globulin_Ratio_median_replaced  \n",
       "0    3.800000       0       2                                    1.100000  \n",
       "1    3.000000       1       1                                    1.200000  \n",
       "2    3.900000       1       1                                    1.000000  \n",
       "3    4.400000       0       2                                    1.700000  \n",
       "4    2.900000       1       1                                    0.800000  \n",
       "..        ...     ...     ...                                         ...  \n",
       "585  3.376645       1       2                                    0.905839  \n",
       "586  4.291745       0       2                                    1.439681  \n",
       "587  4.199158       0       2                                    1.543789  \n",
       "588  2.635176       0       2                                    0.852688  \n",
       "589  3.145534       1       2                                    1.042075  \n",
       "\n",
       "[590 rows x 11 columns]"
      ]
     },
     "execution_count": 33,
     "metadata": {},
     "output_type": "execute_result"
    }
   ],
   "source": [
    "smot_trainx\n"
   ]
  },
  {
   "cell_type": "code",
   "execution_count": 38,
   "id": "216e301a",
   "metadata": {},
   "outputs": [
    {
     "data": {
      "text/plain": [
       "529    2\n",
       "6      1\n",
       "508    1\n",
       "102    2\n",
       "260    1\n",
       "      ..\n",
       "59     1\n",
       "23     2\n",
       "264    2\n",
       "327    2\n",
       "135    1\n",
       "Name: Target, Length: 436, dtype: int64"
      ]
     },
     "execution_count": 38,
     "metadata": {},
     "output_type": "execute_result"
    }
   ],
   "source": [
    "trainy"
   ]
  },
  {
   "cell_type": "code",
   "execution_count": null,
   "id": "99e6bfbc",
   "metadata": {},
   "outputs": [],
   "source": []
  }
 ],
 "metadata": {
  "kernelspec": {
   "display_name": "Python 3 (ipykernel)",
   "language": "python",
   "name": "python3"
  },
  "language_info": {
   "codemirror_mode": {
    "name": "ipython",
    "version": 3
   },
   "file_extension": ".py",
   "mimetype": "text/x-python",
   "name": "python",
   "nbconvert_exporter": "python",
   "pygments_lexer": "ipython3",
   "version": "3.11.9"
  }
 },
 "nbformat": 4,
 "nbformat_minor": 5
}
